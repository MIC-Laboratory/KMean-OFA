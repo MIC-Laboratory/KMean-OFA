{
 "cells": [
  {
   "cell_type": "code",
   "execution_count": 2,
   "metadata": {},
   "outputs": [],
   "source": [
    "import torch\n",
    "\n",
    "def check_weights_same(model1, model2):\n",
    "    \"\"\"\n",
    "    Check if the weights of two PyTorch models are exactly the same.\n",
    "\n",
    "    Args:\n",
    "    model1: The first PyTorch model.\n",
    "    model2: The second PyTorch model.\n",
    "\n",
    "    Returns:\n",
    "    bool: True if all weights are the same, False otherwise.\n",
    "    \"\"\"\n",
    "    for (param1, param2) in zip(model1.parameters(), model2.parameters()):\n",
    "        if param1.data.ne(param2.data).sum() > 0:\n",
    "            return False\n",
    "    return True\n",
    "\n",
    "# Example usage:\n",
    "# model1 = YourModelClass(*args, **kwargs)\n",
    "# model2 = YourModelClass(*args, **kwargs)\n",
    "# are_same = check_weights_same(model1, model2)\n",
    "# print(\"Models have the same weights:\", are_same)\n"
   ]
  },
  {
   "cell_type": "code",
   "execution_count": 3,
   "metadata": {},
   "outputs": [
    {
     "data": {
      "text/plain": [
       "<All keys matched successfully>"
      ]
     },
     "execution_count": 3,
     "metadata": {},
     "output_type": "execute_result"
    }
   ],
   "source": [
    "import torch\n",
    "from ofa.imagenet_classification.elastic_nn.networks import OFAResNets\n",
    "from CNN_Pruning_Engine.Models.Resnet import ResNet101\n",
    "\n",
    "model1 = OFAResNets(\n",
    "        n_classes=100,\n",
    "        bn_param=(0.1, 1e-5),\n",
    "        dropout_rate=0.1,\n",
    "        depth_list=1,\n",
    "        expand_ratio_list=1,\n",
    "        width_mult_list=1.0, \n",
    "    )\n",
    "model2 = ResNet101(100)\n",
    "\n",
    "weight = torch.load(\"weights/Model@ResNet101_ACC@79.89.pt\")[\"state_dict\"]\n",
    "model2.load_state_dict(weight)"
   ]
  },
  {
   "cell_type": "code",
   "execution_count": 4,
   "metadata": {},
   "outputs": [
    {
     "data": {
      "text/plain": [
       "<All keys matched successfully>"
      ]
     },
     "execution_count": 4,
     "metadata": {},
     "output_type": "execute_result"
    }
   ],
   "source": [
    "model1.input_stem[0].conv.conv.load_state_dict(model2.conv1.state_dict())\n",
    "model1.input_stem[0].bn.bn.load_state_dict(model2.bn1.state_dict()) \n",
    "\n",
    "layersx = [\n",
    "            model2.layer1,\n",
    "            model2.layer2,\n",
    "            model2.layer3,\n",
    "            model2.layer4\n",
    "        ]\n",
    "model2_blocks = []\n",
    "for layers in layersx:\n",
    "    for layer in layers:\n",
    "        model2_blocks.append(layer)\n",
    "\n",
    "\n",
    "\n",
    "for i,block in enumerate(model1.blocks,0):\n",
    "    model1.blocks[i].conv1.conv.conv.load_state_dict(model2_blocks[i].conv1.state_dict())\n",
    "    model1.blocks[i].conv1.bn.bn.load_state_dict(model2_blocks[i].bn1.state_dict())\n",
    "\n",
    "    model1.blocks[i].conv2.conv.conv.load_state_dict(model2_blocks[i].conv2.state_dict())\n",
    "    model1.blocks[i].conv2.bn.bn.load_state_dict(model2_blocks[i].bn2.state_dict())\n",
    "\n",
    "    model1.blocks[i].conv3.conv.conv.load_state_dict(model2_blocks[i].conv3.state_dict())\n",
    "    model1.blocks[i].conv3.bn.bn.load_state_dict(model2_blocks[i].bn3.state_dict())\n",
    "\n",
    "    if len(model2_blocks[i].shortcut) > 0:\n",
    "        model1.blocks[i].downsample.conv.conv.load_state_dict(model2_blocks[i].shortcut[0].state_dict())\n",
    "        model1.blocks[i].downsample.bn.bn.load_state_dict(model2_blocks[i].shortcut[1].state_dict())\n",
    "model1.classifier.linear.linear.load_state_dict(model2.linear.state_dict())"
   ]
  },
  {
   "cell_type": "code",
   "execution_count": 5,
   "metadata": {},
   "outputs": [],
   "source": [
    "torch.save({\"state_dict\":model1.state_dict()},\"ResNet101OFA_ACC@79.89.pt\")"
   ]
  },
  {
   "cell_type": "code",
   "execution_count": 6,
   "metadata": {},
   "outputs": [
    {
     "data": {
      "text/plain": [
       "<All keys matched successfully>"
      ]
     },
     "execution_count": 6,
     "metadata": {},
     "output_type": "execute_result"
    }
   ],
   "source": [
    "import torch\n",
    "from ofa.imagenet_classification.elastic_nn.networks import OFAMobileNetV2\n",
    "from CNN_Pruning_Engine.Models.Mobilenetv2 import MobileNetV2\n",
    "model1 = OFAMobileNetV2(\n",
    "        num_classes=100,\n",
    "        bn_param=(0.1, 1e-5),\n",
    "        dropout_rate=0.1,\n",
    "        depth_list=1,\n",
    "        expand_ratio_list=1,\n",
    "        width_mult_list=1.0, \n",
    "    )\n",
    "model2 = MobileNetV2(num_classes=100)\n",
    "\n",
    "weight = torch.load(\"weights/Model@Mobilenetv2_ACC@79.32.pt\")\n",
    "model2.load_state_dict(weight)\n"
   ]
  },
  {
   "cell_type": "code",
   "execution_count": 7,
   "metadata": {},
   "outputs": [],
   "source": [
    "model1.conv1.load_state_dict(model2.conv1.state_dict())\n",
    "model1.bn1.load_state_dict(model2.bn1.state_dict())\n",
    "model1.conv2.load_state_dict(model2.conv2.state_dict())\n",
    "model1.bn2.load_state_dict(model2.bn2.state_dict())\n",
    "model1.linear.load_state_dict(model2.linear.state_dict())\n",
    "\n",
    "\n",
    "for layer_idx in range(len(model1.layers)):\n",
    "    model1.layers[layer_idx].inverted_bottleneck.conv.conv.load_state_dict(model2.layers[layer_idx].conv1.state_dict())\n",
    "    model1.layers[layer_idx].inverted_bottleneck.bn.bn.load_state_dict(model2.layers[layer_idx].bn1.state_dict())\n",
    "\n",
    "    model1.layers[layer_idx].depth_conv.conv.conv.load_state_dict(model2.layers[layer_idx].conv2.state_dict())\n",
    "    model1.layers[layer_idx].depth_conv.bn.bn.load_state_dict(model2.layers[layer_idx].bn2.state_dict())\n",
    "\n",
    "    model1.layers[layer_idx].point_linear.conv.conv.load_state_dict(model2.layers[layer_idx].conv3.state_dict())\n",
    "    model1.layers[layer_idx].point_linear.bn.bn.load_state_dict(model2.layers[layer_idx].bn3.state_dict())\n",
    "    if len(model2.layers[layer_idx].shortcut) > 0:\n",
    "        model1.layers[layer_idx].shortcut[0].load_state_dict(model2.layers[layer_idx].shortcut[0].state_dict())\n",
    "        model1.layers[layer_idx].shortcut[1].load_state_dict(model2.layers[layer_idx].shortcut[1].state_dict())"
   ]
  },
  {
   "cell_type": "code",
   "execution_count": 8,
   "metadata": {},
   "outputs": [
    {
     "data": {
      "text/plain": [
       "True"
      ]
     },
     "execution_count": 8,
     "metadata": {},
     "output_type": "execute_result"
    }
   ],
   "source": [
    "check_weights_same(model1,model2)"
   ]
  },
  {
   "cell_type": "code",
   "execution_count": 9,
   "metadata": {},
   "outputs": [],
   "source": [
    "torch.save({\"state_dict\":model1.state_dict()},\"MobilenetV2OFA_ACC@79.32.pt\")"
   ]
  }
 ],
 "metadata": {
  "kernelspec": {
   "display_name": "Pytorch",
   "language": "python",
   "name": "python3"
  },
  "language_info": {
   "codemirror_mode": {
    "name": "ipython",
    "version": 3
   },
   "file_extension": ".py",
   "mimetype": "text/x-python",
   "name": "python",
   "nbconvert_exporter": "python",
   "pygments_lexer": "ipython3",
   "version": "3.9.18"
  }
 },
 "nbformat": 4,
 "nbformat_minor": 2
}
