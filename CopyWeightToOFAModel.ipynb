{
 "cells": [
  {
   "cell_type": "code",
   "execution_count": 1,
   "metadata": {},
   "outputs": [
    {
     "data": {
      "text/plain": [
       "<All keys matched successfully>"
      ]
     },
     "execution_count": 1,
     "metadata": {},
     "output_type": "execute_result"
    }
   ],
   "source": [
    "import torch\n",
    "from ofa.imagenet_classification.elastic_nn.networks import OFAResNets\n",
    "from CNN_Pruning_Engine.Models.Resnet import ResNet101\n",
    "\n",
    "model1 = OFAResNets(\n",
    "        n_classes=100,\n",
    "        bn_param=(0.1, 1e-5),\n",
    "        dropout_rate=0.1,\n",
    "        depth_list=1,\n",
    "        expand_ratio_list=4,\n",
    "        width_mult_list=1.0, \n",
    "    )\n",
    "model2 = ResNet101(100)\n",
    "\n",
    "weight = torch.load(\"weights/Model@ResNet101_ACC@79.89.pt\")[\"state_dict\"]\n",
    "model2.load_state_dict(weight)"
   ]
  },
  {
   "cell_type": "code",
   "execution_count": 2,
   "metadata": {},
   "outputs": [
    {
     "data": {
      "text/plain": [
       "<All keys matched successfully>"
      ]
     },
     "execution_count": 2,
     "metadata": {},
     "output_type": "execute_result"
    }
   ],
   "source": [
    "model1.input_stem[0].conv.conv.load_state_dict(model2.conv1.state_dict())\n",
    "model1.input_stem[0].bn.bn.load_state_dict(model2.bn1.state_dict()) \n",
    "\n",
    "layersx = [\n",
    "            model2.layer1,\n",
    "            model2.layer2,\n",
    "            model2.layer3,\n",
    "            model2.layer4\n",
    "        ]\n",
    "model2_blocks = []\n",
    "for layers in layersx:\n",
    "    for layer in layers:\n",
    "        model2_blocks.append(layer)\n",
    "\n",
    "\n",
    "\n",
    "for i,block in enumerate(model1.blocks,0):\n",
    "    model1.blocks[i].conv1.conv.conv.load_state_dict(model2_blocks[i].conv1.state_dict())\n",
    "    model1.blocks[i].conv1.bn.bn.load_state_dict(model2_blocks[i].bn1.state_dict())\n",
    "\n",
    "    model1.blocks[i].conv2.conv.conv.load_state_dict(model2_blocks[i].conv2.state_dict())\n",
    "    model1.blocks[i].conv2.bn.bn.load_state_dict(model2_blocks[i].bn2.state_dict())\n",
    "\n",
    "    model1.blocks[i].conv3.conv.conv.load_state_dict(model2_blocks[i].conv3.state_dict())\n",
    "    model1.blocks[i].conv3.bn.bn.load_state_dict(model2_blocks[i].bn3.state_dict())\n",
    "\n",
    "    if len(model2_blocks[i].shortcut) > 0:\n",
    "        model1.blocks[i].downsample.conv.conv.load_state_dict(model2_blocks[i].shortcut[0].state_dict())\n",
    "        model1.blocks[i].downsample.bn.bn.load_state_dict(model2_blocks[i].shortcut[1].state_dict())\n",
    "model1.classifier.linear.linear.load_state_dict(model2.linear.state_dict())"
   ]
  },
  {
   "cell_type": "code",
   "execution_count": 3,
   "metadata": {},
   "outputs": [],
   "source": [
    "torch.save({\"state_dict\":model1.state_dict()},\"ResNet101OFA_ACC@79.89.pt\")"
   ]
  }
 ],
 "metadata": {
  "kernelspec": {
   "display_name": "Pytorch",
   "language": "python",
   "name": "python3"
  },
  "language_info": {
   "codemirror_mode": {
    "name": "ipython",
    "version": 3
   },
   "file_extension": ".py",
   "mimetype": "text/x-python",
   "name": "python",
   "nbconvert_exporter": "python",
   "pygments_lexer": "ipython3",
   "version": "3.9.17"
  }
 },
 "nbformat": 4,
 "nbformat_minor": 2
}
