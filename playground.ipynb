{
 "cells": [
  {
   "cell_type": "code",
   "execution_count": 1,
   "metadata": {},
   "outputs": [
    {
     "data": {
      "text/plain": [
       "tensor([[ 0.0505,  0.3298,  0.1122,  0.1439,  0.0074, -0.1695,  0.1027,  0.2527,\n",
       "          0.1600,  0.2731]], grad_fn=<AddmmBackward0>)"
      ]
     },
     "execution_count": 1,
     "metadata": {},
     "output_type": "execute_result"
    }
   ],
   "source": [
    "from ofa.imagenet_classification.elastic_nn.networks.ofa_mbv2 import OFAMobileNetV2\n",
    "model = OFAMobileNetV2()\n",
    "import torch\n",
    "\n",
    "# Generate random data\n",
    "data = torch.randn(1,3, 32, 32)\n",
    "model.set_active_subnet(e=1)\n",
    "net = model.get_active_subnet(preserve_weight=True)\n",
    "net(data)"
   ]
  }
 ],
 "metadata": {
  "kernelspec": {
   "display_name": "OFA",
   "language": "python",
   "name": "python3"
  },
  "language_info": {
   "codemirror_mode": {
    "name": "ipython",
    "version": 3
   },
   "file_extension": ".py",
   "mimetype": "text/x-python",
   "name": "python",
   "nbconvert_exporter": "python",
   "pygments_lexer": "ipython3",
   "version": "3.9.18"
  }
 },
 "nbformat": 4,
 "nbformat_minor": 2
}
